{
 "cells": [
  {
   "cell_type": "code",
   "execution_count": 22,
   "id": "95a3ec7d",
   "metadata": {},
   "outputs": [],
   "source": [
    "import pandas as pd \n",
    "import numpy as np \n",
    "from sklearn.model_selection import train_test_split\n",
    "from sklearn.linear_model import LinearRegression, LogisticRegression, BayesianRidge\n",
    "import pickle"
   ]
  },
  {
   "cell_type": "code",
   "execution_count": 23,
   "id": "e9da8b82",
   "metadata": {},
   "outputs": [],
   "source": [
    "gt = pd.read_csv('final_csv_files/hero_xyz_20Hz.csv')\n",
    "gt.columns = ['time','x','y','z']\n",
    "df = pd.read_csv('final_csv_files/cam_lidar_xyz_20Hz.csv')\n",
    "df.columns = ['time','cam_x','cam_y','cam_z', 'lid_x', 'lid_y', 'lid_z']"
   ]
  },
  {
   "cell_type": "code",
   "execution_count": 24,
   "id": "efa35a79",
   "metadata": {},
   "outputs": [],
   "source": [
    "X = np.asarray(df[['cam_x', 'cam_y', 'cam_z', 'lid_x', 'lid_y', 'lid_z']])\n",
    "Y = np.asarray(gt[['x', 'y', 'z']])"
   ]
  },
  {
   "cell_type": "code",
   "execution_count": 25,
   "id": "0d76ce82",
   "metadata": {},
   "outputs": [],
   "source": [
    "X_train, X_test, Y_train, Y_test = train_test_split(X, Y, test_size=0.3, shuffle=True)"
   ]
  },
  {
   "cell_type": "code",
   "execution_count": 26,
   "id": "037a6ef1",
   "metadata": {},
   "outputs": [
    {
     "name": "stdout",
     "output_type": "stream",
     "text": [
      "Score:  0.999835887489264\n",
      "Weights:  [[ 0.28246403 -0.05867583 -0.36629552  0.72270332 -0.01343519  0.12159045]\n",
      " [-0.17191241  1.12527304  2.28791574  0.17354541 -0.07202553 -2.30308823]\n",
      " [ 0.00847683 -0.01748432 -0.2503942  -0.00780808  0.01177237  1.21821204]]\n"
     ]
    }
   ],
   "source": [
    "lr = LinearRegression()\n",
    "\n",
    "lr.fit(X_train, Y_train)\n",
    "print('Score: ', lr.score(X_test, Y_test))\n",
    "print('Weights: ', lr.coef_)"
   ]
  },
  {
   "cell_type": "code",
   "execution_count": 27,
   "id": "fbc0e3f7",
   "metadata": {},
   "outputs": [
    {
     "data": {
      "text/plain": [
       "array([[  10.23331882, -104.29806649,   -0.31627158]])"
      ]
     },
     "execution_count": 27,
     "metadata": {},
     "output_type": "execute_result"
    }
   ],
   "source": [
    "lr.predict([[15.0639328276075,-109.610933453907,1.15454667017099,15.4335601199163,-110.334714233467,1.05167628657328]])"
   ]
  },
  {
   "cell_type": "code",
   "execution_count": 28,
   "id": "b99b7689",
   "metadata": {},
   "outputs": [],
   "source": [
    "filename = 'lr_model.sav'\n",
    "pickle.dump(lr, open(filename, 'wb'))"
   ]
  },
  {
   "cell_type": "code",
   "execution_count": 29,
   "id": "b96989ed",
   "metadata": {},
   "outputs": [],
   "source": [
    "loaded_model = pickle.load(open(filename, 'rb'))\n",
    "result = loaded_model.score(X_test, Y_test)\n",
    "\n",
    "pred_Y = loaded_model.predict(X)"
   ]
  },
  {
   "cell_type": "code",
   "execution_count": null,
   "id": "7e80bd70",
   "metadata": {},
   "outputs": [],
   "source": []
  }
 ],
 "metadata": {
  "kernelspec": {
   "display_name": "Python 3 (ipykernel)",
   "language": "python",
   "name": "python3"
  },
  "language_info": {
   "codemirror_mode": {
    "name": "ipython",
    "version": 3
   },
   "file_extension": ".py",
   "mimetype": "text/x-python",
   "name": "python",
   "nbconvert_exporter": "python",
   "pygments_lexer": "ipython3",
   "version": "3.8.10"
  }
 },
 "nbformat": 4,
 "nbformat_minor": 5
}
